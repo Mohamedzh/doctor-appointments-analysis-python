{
 "cells": [
  {
   "cell_type": "markdown",
   "metadata": {},
   "source": [
    "\n",
    "\n",
    "# Project: Investigate a Dataset (Medical Appointment No shows)\n",
    "\n",
    "## Table of Contents\n",
    "<ul>\n",
    "<li><a href=\"#intro\">Introduction</a></li>\n",
    "<li><a href=\"#wrangling\">Data Wrangling</a></li>\n",
    "<li><a href=\"#eda\">Exploratory Data Analysis</a></li>\n",
    "<li><a href=\"#conclusions\">Conclusions</a></li>\n",
    "</ul>\n",
    "\n",
    "<a id='intro'></a>\n",
    "## Introduction\n",
    "\n",
    ">A person makes a doctor appointment, receives all the instructions and no-show. Who is to blame? \n",
    "In this Notebook we are going to analyze 110.527 medical appointments and their 14 associated variables for the factors affecting the no-show rates for doctor appointments.\n",
    "\n",
    ">After inspecting and cleaning the data, we will analyze the factors affecting no-show rates based on whether they are inherent factors that can't be mended like patient's age and health conidtions, or external factors that can be changed to improve appointments show rates like the place of the appointment, its timing, if the patient received an SMS for his appointment or not and if the patient is receiving scholarship (welfare).\n"
   ]
  },
  {
   "cell_type": "markdown",
   "metadata": {},
   "source": [
    "#### Importing the needed libraries for data analysis and visualizations"
   ]
  },
  {
   "cell_type": "code",
   "execution_count": 1,
   "metadata": {},
   "outputs": [],
   "source": [
    "import numpy as np\n",
    "import pandas as pd\n",
    "import matplotlib.pyplot as plt\n",
    "% matplotlib inline"
   ]
  },
  {
   "cell_type": "markdown",
   "metadata": {},
   "source": [
    "<a id='wrangling'></a>\n",
    "## Data Wrangling\n",
    "\n",
    "\n",
    "### General Properties"
   ]
  },
  {
   "cell_type": "markdown",
   "metadata": {},
   "source": [
    "#### Importing the data to a dataframe and exploring columns"
   ]
  },
  {
   "cell_type": "code",
   "execution_count": 2,
   "metadata": {},
   "outputs": [
    {
     "data": {
      "text/html": [
       "<div>\n",
       "<style scoped>\n",
       "    .dataframe tbody tr th:only-of-type {\n",
       "        vertical-align: middle;\n",
       "    }\n",
       "\n",
       "    .dataframe tbody tr th {\n",
       "        vertical-align: top;\n",
       "    }\n",
       "\n",
       "    .dataframe thead th {\n",
       "        text-align: right;\n",
       "    }\n",
       "</style>\n",
       "<table border=\"1\" class=\"dataframe\">\n",
       "  <thead>\n",
       "    <tr style=\"text-align: right;\">\n",
       "      <th></th>\n",
       "      <th>PatientId</th>\n",
       "      <th>AppointmentID</th>\n",
       "      <th>Gender</th>\n",
       "      <th>ScheduledDay</th>\n",
       "      <th>AppointmentDay</th>\n",
       "      <th>Age</th>\n",
       "      <th>Neighbourhood</th>\n",
       "      <th>Scholarship</th>\n",
       "      <th>Hipertension</th>\n",
       "      <th>Diabetes</th>\n",
       "      <th>Alcoholism</th>\n",
       "      <th>Handcap</th>\n",
       "      <th>SMS_received</th>\n",
       "      <th>No-show</th>\n",
       "    </tr>\n",
       "  </thead>\n",
       "  <tbody>\n",
       "    <tr>\n",
       "      <th>0</th>\n",
       "      <td>2.987250e+13</td>\n",
       "      <td>5642903</td>\n",
       "      <td>F</td>\n",
       "      <td>2016-04-29T18:38:08Z</td>\n",
       "      <td>2016-04-29T00:00:00Z</td>\n",
       "      <td>62</td>\n",
       "      <td>JARDIM DA PENHA</td>\n",
       "      <td>0</td>\n",
       "      <td>1</td>\n",
       "      <td>0</td>\n",
       "      <td>0</td>\n",
       "      <td>0</td>\n",
       "      <td>0</td>\n",
       "      <td>No</td>\n",
       "    </tr>\n",
       "    <tr>\n",
       "      <th>1</th>\n",
       "      <td>5.589978e+14</td>\n",
       "      <td>5642503</td>\n",
       "      <td>M</td>\n",
       "      <td>2016-04-29T16:08:27Z</td>\n",
       "      <td>2016-04-29T00:00:00Z</td>\n",
       "      <td>56</td>\n",
       "      <td>JARDIM DA PENHA</td>\n",
       "      <td>0</td>\n",
       "      <td>0</td>\n",
       "      <td>0</td>\n",
       "      <td>0</td>\n",
       "      <td>0</td>\n",
       "      <td>0</td>\n",
       "      <td>No</td>\n",
       "    </tr>\n",
       "    <tr>\n",
       "      <th>2</th>\n",
       "      <td>4.262962e+12</td>\n",
       "      <td>5642549</td>\n",
       "      <td>F</td>\n",
       "      <td>2016-04-29T16:19:04Z</td>\n",
       "      <td>2016-04-29T00:00:00Z</td>\n",
       "      <td>62</td>\n",
       "      <td>MATA DA PRAIA</td>\n",
       "      <td>0</td>\n",
       "      <td>0</td>\n",
       "      <td>0</td>\n",
       "      <td>0</td>\n",
       "      <td>0</td>\n",
       "      <td>0</td>\n",
       "      <td>No</td>\n",
       "    </tr>\n",
       "    <tr>\n",
       "      <th>3</th>\n",
       "      <td>8.679512e+11</td>\n",
       "      <td>5642828</td>\n",
       "      <td>F</td>\n",
       "      <td>2016-04-29T17:29:31Z</td>\n",
       "      <td>2016-04-29T00:00:00Z</td>\n",
       "      <td>8</td>\n",
       "      <td>PONTAL DE CAMBURI</td>\n",
       "      <td>0</td>\n",
       "      <td>0</td>\n",
       "      <td>0</td>\n",
       "      <td>0</td>\n",
       "      <td>0</td>\n",
       "      <td>0</td>\n",
       "      <td>No</td>\n",
       "    </tr>\n",
       "    <tr>\n",
       "      <th>4</th>\n",
       "      <td>8.841186e+12</td>\n",
       "      <td>5642494</td>\n",
       "      <td>F</td>\n",
       "      <td>2016-04-29T16:07:23Z</td>\n",
       "      <td>2016-04-29T00:00:00Z</td>\n",
       "      <td>56</td>\n",
       "      <td>JARDIM DA PENHA</td>\n",
       "      <td>0</td>\n",
       "      <td>1</td>\n",
       "      <td>1</td>\n",
       "      <td>0</td>\n",
       "      <td>0</td>\n",
       "      <td>0</td>\n",
       "      <td>No</td>\n",
       "    </tr>\n",
       "  </tbody>\n",
       "</table>\n",
       "</div>"
      ],
      "text/plain": [
       "      PatientId  AppointmentID Gender          ScheduledDay  \\\n",
       "0  2.987250e+13        5642903      F  2016-04-29T18:38:08Z   \n",
       "1  5.589978e+14        5642503      M  2016-04-29T16:08:27Z   \n",
       "2  4.262962e+12        5642549      F  2016-04-29T16:19:04Z   \n",
       "3  8.679512e+11        5642828      F  2016-04-29T17:29:31Z   \n",
       "4  8.841186e+12        5642494      F  2016-04-29T16:07:23Z   \n",
       "\n",
       "         AppointmentDay  Age      Neighbourhood  Scholarship  Hipertension  \\\n",
       "0  2016-04-29T00:00:00Z   62    JARDIM DA PENHA            0             1   \n",
       "1  2016-04-29T00:00:00Z   56    JARDIM DA PENHA            0             0   \n",
       "2  2016-04-29T00:00:00Z   62      MATA DA PRAIA            0             0   \n",
       "3  2016-04-29T00:00:00Z    8  PONTAL DE CAMBURI            0             0   \n",
       "4  2016-04-29T00:00:00Z   56    JARDIM DA PENHA            0             1   \n",
       "\n",
       "   Diabetes  Alcoholism  Handcap  SMS_received No-show  \n",
       "0         0           0        0             0      No  \n",
       "1         0           0        0             0      No  \n",
       "2         0           0        0             0      No  \n",
       "3         0           0        0             0      No  \n",
       "4         1           0        0             0      No  "
      ]
     },
     "execution_count": 2,
     "metadata": {},
     "output_type": "execute_result"
    }
   ],
   "source": [
    "df=pd.read_csv('noshowappointments-kagglev2-may-2016.csv')\n",
    "df.head()"
   ]
  },
  {
   "cell_type": "code",
   "execution_count": 3,
   "metadata": {},
   "outputs": [
    {
     "data": {
      "text/html": [
       "<div>\n",
       "<style scoped>\n",
       "    .dataframe tbody tr th:only-of-type {\n",
       "        vertical-align: middle;\n",
       "    }\n",
       "\n",
       "    .dataframe tbody tr th {\n",
       "        vertical-align: top;\n",
       "    }\n",
       "\n",
       "    .dataframe thead th {\n",
       "        text-align: right;\n",
       "    }\n",
       "</style>\n",
       "<table border=\"1\" class=\"dataframe\">\n",
       "  <thead>\n",
       "    <tr style=\"text-align: right;\">\n",
       "      <th></th>\n",
       "      <th>PatientId</th>\n",
       "      <th>AppointmentID</th>\n",
       "      <th>Age</th>\n",
       "      <th>Scholarship</th>\n",
       "      <th>Hipertension</th>\n",
       "      <th>Diabetes</th>\n",
       "      <th>Alcoholism</th>\n",
       "      <th>Handcap</th>\n",
       "      <th>SMS_received</th>\n",
       "    </tr>\n",
       "  </thead>\n",
       "  <tbody>\n",
       "    <tr>\n",
       "      <th>count</th>\n",
       "      <td>1.105270e+05</td>\n",
       "      <td>1.105270e+05</td>\n",
       "      <td>110527.000000</td>\n",
       "      <td>110527.000000</td>\n",
       "      <td>110527.000000</td>\n",
       "      <td>110527.000000</td>\n",
       "      <td>110527.000000</td>\n",
       "      <td>110527.000000</td>\n",
       "      <td>110527.000000</td>\n",
       "    </tr>\n",
       "    <tr>\n",
       "      <th>mean</th>\n",
       "      <td>1.474963e+14</td>\n",
       "      <td>5.675305e+06</td>\n",
       "      <td>37.088874</td>\n",
       "      <td>0.098266</td>\n",
       "      <td>0.197246</td>\n",
       "      <td>0.071865</td>\n",
       "      <td>0.030400</td>\n",
       "      <td>0.022248</td>\n",
       "      <td>0.321026</td>\n",
       "    </tr>\n",
       "    <tr>\n",
       "      <th>std</th>\n",
       "      <td>2.560949e+14</td>\n",
       "      <td>7.129575e+04</td>\n",
       "      <td>23.110205</td>\n",
       "      <td>0.297675</td>\n",
       "      <td>0.397921</td>\n",
       "      <td>0.258265</td>\n",
       "      <td>0.171686</td>\n",
       "      <td>0.161543</td>\n",
       "      <td>0.466873</td>\n",
       "    </tr>\n",
       "    <tr>\n",
       "      <th>min</th>\n",
       "      <td>3.921784e+04</td>\n",
       "      <td>5.030230e+06</td>\n",
       "      <td>-1.000000</td>\n",
       "      <td>0.000000</td>\n",
       "      <td>0.000000</td>\n",
       "      <td>0.000000</td>\n",
       "      <td>0.000000</td>\n",
       "      <td>0.000000</td>\n",
       "      <td>0.000000</td>\n",
       "    </tr>\n",
       "    <tr>\n",
       "      <th>25%</th>\n",
       "      <td>4.172614e+12</td>\n",
       "      <td>5.640286e+06</td>\n",
       "      <td>18.000000</td>\n",
       "      <td>0.000000</td>\n",
       "      <td>0.000000</td>\n",
       "      <td>0.000000</td>\n",
       "      <td>0.000000</td>\n",
       "      <td>0.000000</td>\n",
       "      <td>0.000000</td>\n",
       "    </tr>\n",
       "    <tr>\n",
       "      <th>50%</th>\n",
       "      <td>3.173184e+13</td>\n",
       "      <td>5.680573e+06</td>\n",
       "      <td>37.000000</td>\n",
       "      <td>0.000000</td>\n",
       "      <td>0.000000</td>\n",
       "      <td>0.000000</td>\n",
       "      <td>0.000000</td>\n",
       "      <td>0.000000</td>\n",
       "      <td>0.000000</td>\n",
       "    </tr>\n",
       "    <tr>\n",
       "      <th>75%</th>\n",
       "      <td>9.439172e+13</td>\n",
       "      <td>5.725524e+06</td>\n",
       "      <td>55.000000</td>\n",
       "      <td>0.000000</td>\n",
       "      <td>0.000000</td>\n",
       "      <td>0.000000</td>\n",
       "      <td>0.000000</td>\n",
       "      <td>0.000000</td>\n",
       "      <td>1.000000</td>\n",
       "    </tr>\n",
       "    <tr>\n",
       "      <th>max</th>\n",
       "      <td>9.999816e+14</td>\n",
       "      <td>5.790484e+06</td>\n",
       "      <td>115.000000</td>\n",
       "      <td>1.000000</td>\n",
       "      <td>1.000000</td>\n",
       "      <td>1.000000</td>\n",
       "      <td>1.000000</td>\n",
       "      <td>4.000000</td>\n",
       "      <td>1.000000</td>\n",
       "    </tr>\n",
       "  </tbody>\n",
       "</table>\n",
       "</div>"
      ],
      "text/plain": [
       "          PatientId  AppointmentID            Age    Scholarship  \\\n",
       "count  1.105270e+05   1.105270e+05  110527.000000  110527.000000   \n",
       "mean   1.474963e+14   5.675305e+06      37.088874       0.098266   \n",
       "std    2.560949e+14   7.129575e+04      23.110205       0.297675   \n",
       "min    3.921784e+04   5.030230e+06      -1.000000       0.000000   \n",
       "25%    4.172614e+12   5.640286e+06      18.000000       0.000000   \n",
       "50%    3.173184e+13   5.680573e+06      37.000000       0.000000   \n",
       "75%    9.439172e+13   5.725524e+06      55.000000       0.000000   \n",
       "max    9.999816e+14   5.790484e+06     115.000000       1.000000   \n",
       "\n",
       "        Hipertension       Diabetes     Alcoholism        Handcap  \\\n",
       "count  110527.000000  110527.000000  110527.000000  110527.000000   \n",
       "mean        0.197246       0.071865       0.030400       0.022248   \n",
       "std         0.397921       0.258265       0.171686       0.161543   \n",
       "min         0.000000       0.000000       0.000000       0.000000   \n",
       "25%         0.000000       0.000000       0.000000       0.000000   \n",
       "50%         0.000000       0.000000       0.000000       0.000000   \n",
       "75%         0.000000       0.000000       0.000000       0.000000   \n",
       "max         1.000000       1.000000       1.000000       4.000000   \n",
       "\n",
       "        SMS_received  \n",
       "count  110527.000000  \n",
       "mean        0.321026  \n",
       "std         0.466873  \n",
       "min         0.000000  \n",
       "25%         0.000000  \n",
       "50%         0.000000  \n",
       "75%         1.000000  \n",
       "max         1.000000  "
      ]
     },
     "execution_count": 3,
     "metadata": {},
     "output_type": "execute_result"
    }
   ],
   "source": [
    "df.describe()"
   ]
  },
  {
   "cell_type": "code",
   "execution_count": 4,
   "metadata": {
    "scrolled": false
   },
   "outputs": [
    {
     "data": {
      "text/html": [
       "<div>\n",
       "<style scoped>\n",
       "    .dataframe tbody tr th:only-of-type {\n",
       "        vertical-align: middle;\n",
       "    }\n",
       "\n",
       "    .dataframe tbody tr th {\n",
       "        vertical-align: top;\n",
       "    }\n",
       "\n",
       "    .dataframe thead th {\n",
       "        text-align: right;\n",
       "    }\n",
       "</style>\n",
       "<table border=\"1\" class=\"dataframe\">\n",
       "  <thead>\n",
       "    <tr style=\"text-align: right;\">\n",
       "      <th></th>\n",
       "      <th>Gender</th>\n",
       "      <th>ScheduledDay</th>\n",
       "      <th>AppointmentDay</th>\n",
       "      <th>Neighbourhood</th>\n",
       "      <th>No-show</th>\n",
       "    </tr>\n",
       "  </thead>\n",
       "  <tbody>\n",
       "    <tr>\n",
       "      <th>count</th>\n",
       "      <td>110527</td>\n",
       "      <td>110527</td>\n",
       "      <td>110527</td>\n",
       "      <td>110527</td>\n",
       "      <td>110527</td>\n",
       "    </tr>\n",
       "    <tr>\n",
       "      <th>unique</th>\n",
       "      <td>2</td>\n",
       "      <td>103549</td>\n",
       "      <td>27</td>\n",
       "      <td>81</td>\n",
       "      <td>2</td>\n",
       "    </tr>\n",
       "    <tr>\n",
       "      <th>top</th>\n",
       "      <td>F</td>\n",
       "      <td>2016-05-06T07:09:54Z</td>\n",
       "      <td>2016-06-06T00:00:00Z</td>\n",
       "      <td>JARDIM CAMBURI</td>\n",
       "      <td>No</td>\n",
       "    </tr>\n",
       "    <tr>\n",
       "      <th>freq</th>\n",
       "      <td>71840</td>\n",
       "      <td>24</td>\n",
       "      <td>4692</td>\n",
       "      <td>7717</td>\n",
       "      <td>88208</td>\n",
       "    </tr>\n",
       "  </tbody>\n",
       "</table>\n",
       "</div>"
      ],
      "text/plain": [
       "        Gender          ScheduledDay        AppointmentDay   Neighbourhood  \\\n",
       "count   110527                110527                110527          110527   \n",
       "unique       2                103549                    27              81   \n",
       "top          F  2016-05-06T07:09:54Z  2016-06-06T00:00:00Z  JARDIM CAMBURI   \n",
       "freq     71840                    24                  4692            7717   \n",
       "\n",
       "       No-show  \n",
       "count   110527  \n",
       "unique       2  \n",
       "top         No  \n",
       "freq     88208  "
      ]
     },
     "execution_count": 4,
     "metadata": {},
     "output_type": "execute_result"
    }
   ],
   "source": [
    "df.describe(include=('O'))"
   ]
  },
  {
   "cell_type": "markdown",
   "metadata": {},
   "source": [
    "#### Checking for Nan values in the dataset:"
   ]
  },
  {
   "cell_type": "code",
   "execution_count": 5,
   "metadata": {},
   "outputs": [
    {
     "name": "stdout",
     "output_type": "stream",
     "text": [
      "<class 'pandas.core.frame.DataFrame'>\n",
      "RangeIndex: 110527 entries, 0 to 110526\n",
      "Data columns (total 14 columns):\n",
      "PatientId         110527 non-null float64\n",
      "AppointmentID     110527 non-null int64\n",
      "Gender            110527 non-null object\n",
      "ScheduledDay      110527 non-null object\n",
      "AppointmentDay    110527 non-null object\n",
      "Age               110527 non-null int64\n",
      "Neighbourhood     110527 non-null object\n",
      "Scholarship       110527 non-null int64\n",
      "Hipertension      110527 non-null int64\n",
      "Diabetes          110527 non-null int64\n",
      "Alcoholism        110527 non-null int64\n",
      "Handcap           110527 non-null int64\n",
      "SMS_received      110527 non-null int64\n",
      "No-show           110527 non-null object\n",
      "dtypes: float64(1), int64(8), object(5)\n",
      "memory usage: 11.8+ MB\n"
     ]
    }
   ],
   "source": [
    "df.info()"
   ]
  },
  {
   "cell_type": "markdown",
   "metadata": {},
   "source": [
    ">**No Nan values found**"
   ]
  },
  {
   "cell_type": "markdown",
   "metadata": {},
   "source": [
    "#### Checking columns for any missing or error values"
   ]
  },
  {
   "cell_type": "code",
   "execution_count": 6,
   "metadata": {},
   "outputs": [
    {
     "data": {
      "text/plain": [
       " 0      3539\n",
       " 1      2273\n",
       " 52     1746\n",
       " 49     1652\n",
       " 53     1651\n",
       " 56     1635\n",
       " 38     1629\n",
       " 59     1624\n",
       " 2      1618\n",
       " 50     1613\n",
       " 57     1603\n",
       " 36     1580\n",
       " 51     1567\n",
       " 19     1545\n",
       " 39     1536\n",
       " 37     1533\n",
       " 54     1530\n",
       " 34     1526\n",
       " 33     1524\n",
       " 30     1521\n",
       " 6      1521\n",
       " 3      1513\n",
       " 17     1509\n",
       " 32     1505\n",
       " 5      1489\n",
       " 44     1487\n",
       " 18     1487\n",
       " 58     1469\n",
       " 46     1460\n",
       " 45     1453\n",
       "        ... \n",
       " 74      602\n",
       " 76      571\n",
       " 75      544\n",
       " 78      541\n",
       " 77      527\n",
       " 80      511\n",
       " 81      434\n",
       " 82      392\n",
       " 79      390\n",
       " 84      311\n",
       " 83      280\n",
       " 85      275\n",
       " 86      260\n",
       " 87      184\n",
       " 89      173\n",
       " 88      126\n",
       " 90      109\n",
       " 92       86\n",
       " 91       66\n",
       " 93       53\n",
       " 94       33\n",
       " 95       24\n",
       " 96       17\n",
       " 97       11\n",
       " 98        6\n",
       " 115       5\n",
       " 100       4\n",
       " 102       2\n",
       " 99        1\n",
       "-1         1\n",
       "Name: Age, Length: 104, dtype: int64"
      ]
     },
     "execution_count": 6,
     "metadata": {},
     "output_type": "execute_result"
    }
   ],
   "source": [
    "df.Age.value_counts()"
   ]
  },
  {
   "cell_type": "markdown",
   "metadata": {},
   "source": [
    ">**In the _'Age'_ column, there is an invalid entry (-1) which needs to be removed during data cleaning**"
   ]
  },
  {
   "cell_type": "code",
   "execution_count": 7,
   "metadata": {},
   "outputs": [
    {
     "data": {
      "text/plain": [
       "F    71840\n",
       "M    38687\n",
       "Name: Gender, dtype: int64"
      ]
     },
     "execution_count": 7,
     "metadata": {},
     "output_type": "execute_result"
    }
   ],
   "source": [
    "df.Gender.value_counts()"
   ]
  },
  {
   "cell_type": "code",
   "execution_count": 8,
   "metadata": {},
   "outputs": [
    {
     "data": {
      "text/plain": [
       "0    99666\n",
       "1    10861\n",
       "Name: Scholarship, dtype: int64"
      ]
     },
     "execution_count": 8,
     "metadata": {},
     "output_type": "execute_result"
    }
   ],
   "source": [
    "df.Scholarship.value_counts()"
   ]
  },
  {
   "cell_type": "code",
   "execution_count": 9,
   "metadata": {},
   "outputs": [
    {
     "data": {
      "text/plain": [
       "0    88726\n",
       "1    21801\n",
       "Name: Hipertension, dtype: int64"
      ]
     },
     "execution_count": 9,
     "metadata": {},
     "output_type": "execute_result"
    }
   ],
   "source": [
    "df.Hipertension.value_counts()"
   ]
  },
  {
   "cell_type": "code",
   "execution_count": 10,
   "metadata": {},
   "outputs": [
    {
     "data": {
      "text/plain": [
       "0    102584\n",
       "1      7943\n",
       "Name: Diabetes, dtype: int64"
      ]
     },
     "execution_count": 10,
     "metadata": {},
     "output_type": "execute_result"
    }
   ],
   "source": [
    "df.Diabetes.value_counts()"
   ]
  },
  {
   "cell_type": "code",
   "execution_count": 11,
   "metadata": {},
   "outputs": [
    {
     "data": {
      "text/plain": [
       "0    107167\n",
       "1      3360\n",
       "Name: Alcoholism, dtype: int64"
      ]
     },
     "execution_count": 11,
     "metadata": {},
     "output_type": "execute_result"
    }
   ],
   "source": [
    "df.Alcoholism.value_counts()"
   ]
  },
  {
   "cell_type": "code",
   "execution_count": 12,
   "metadata": {},
   "outputs": [
    {
     "data": {
      "text/plain": [
       "0    108286\n",
       "1      2042\n",
       "2       183\n",
       "3        13\n",
       "4         3\n",
       "Name: Handcap, dtype: int64"
      ]
     },
     "execution_count": 12,
     "metadata": {},
     "output_type": "execute_result"
    }
   ],
   "source": [
    "df.Handcap.value_counts()"
   ]
  },
  {
   "cell_type": "code",
   "execution_count": 13,
   "metadata": {},
   "outputs": [
    {
     "data": {
      "text/plain": [
       "0    75045\n",
       "1    35482\n",
       "Name: SMS_received, dtype: int64"
      ]
     },
     "execution_count": 13,
     "metadata": {},
     "output_type": "execute_result"
    }
   ],
   "source": [
    "df.SMS_received.value_counts()"
   ]
  },
  {
   "cell_type": "markdown",
   "metadata": {},
   "source": [
    "#### Editing the _ScheduledDay_ and _AppointmentDay_ columns to remove irrelevant data and compare between them:"
   ]
  },
  {
   "cell_type": "code",
   "execution_count": 14,
   "metadata": {},
   "outputs": [],
   "source": [
    "df.ScheduledDay=df.ScheduledDay.str[:10]"
   ]
  },
  {
   "cell_type": "code",
   "execution_count": 15,
   "metadata": {},
   "outputs": [],
   "source": [
    "df.AppointmentDay=df.AppointmentDay.str[:10]"
   ]
  },
  {
   "cell_type": "code",
   "execution_count": 16,
   "metadata": {
    "scrolled": true
   },
   "outputs": [
    {
     "data": {
      "text/html": [
       "<div>\n",
       "<style scoped>\n",
       "    .dataframe tbody tr th:only-of-type {\n",
       "        vertical-align: middle;\n",
       "    }\n",
       "\n",
       "    .dataframe tbody tr th {\n",
       "        vertical-align: top;\n",
       "    }\n",
       "\n",
       "    .dataframe thead th {\n",
       "        text-align: right;\n",
       "    }\n",
       "</style>\n",
       "<table border=\"1\" class=\"dataframe\">\n",
       "  <thead>\n",
       "    <tr style=\"text-align: right;\">\n",
       "      <th></th>\n",
       "      <th>PatientId</th>\n",
       "      <th>AppointmentID</th>\n",
       "      <th>Gender</th>\n",
       "      <th>ScheduledDay</th>\n",
       "      <th>AppointmentDay</th>\n",
       "      <th>Age</th>\n",
       "      <th>Neighbourhood</th>\n",
       "      <th>Scholarship</th>\n",
       "      <th>Hipertension</th>\n",
       "      <th>Diabetes</th>\n",
       "      <th>Alcoholism</th>\n",
       "      <th>Handcap</th>\n",
       "      <th>SMS_received</th>\n",
       "      <th>No-show</th>\n",
       "    </tr>\n",
       "  </thead>\n",
       "  <tbody>\n",
       "    <tr>\n",
       "      <th>0</th>\n",
       "      <td>2.987250e+13</td>\n",
       "      <td>5642903</td>\n",
       "      <td>F</td>\n",
       "      <td>2016-04-29</td>\n",
       "      <td>2016-04-29</td>\n",
       "      <td>62</td>\n",
       "      <td>JARDIM DA PENHA</td>\n",
       "      <td>0</td>\n",
       "      <td>1</td>\n",
       "      <td>0</td>\n",
       "      <td>0</td>\n",
       "      <td>0</td>\n",
       "      <td>0</td>\n",
       "      <td>No</td>\n",
       "    </tr>\n",
       "    <tr>\n",
       "      <th>1</th>\n",
       "      <td>5.589978e+14</td>\n",
       "      <td>5642503</td>\n",
       "      <td>M</td>\n",
       "      <td>2016-04-29</td>\n",
       "      <td>2016-04-29</td>\n",
       "      <td>56</td>\n",
       "      <td>JARDIM DA PENHA</td>\n",
       "      <td>0</td>\n",
       "      <td>0</td>\n",
       "      <td>0</td>\n",
       "      <td>0</td>\n",
       "      <td>0</td>\n",
       "      <td>0</td>\n",
       "      <td>No</td>\n",
       "    </tr>\n",
       "    <tr>\n",
       "      <th>2</th>\n",
       "      <td>4.262962e+12</td>\n",
       "      <td>5642549</td>\n",
       "      <td>F</td>\n",
       "      <td>2016-04-29</td>\n",
       "      <td>2016-04-29</td>\n",
       "      <td>62</td>\n",
       "      <td>MATA DA PRAIA</td>\n",
       "      <td>0</td>\n",
       "      <td>0</td>\n",
       "      <td>0</td>\n",
       "      <td>0</td>\n",
       "      <td>0</td>\n",
       "      <td>0</td>\n",
       "      <td>No</td>\n",
       "    </tr>\n",
       "    <tr>\n",
       "      <th>3</th>\n",
       "      <td>8.679512e+11</td>\n",
       "      <td>5642828</td>\n",
       "      <td>F</td>\n",
       "      <td>2016-04-29</td>\n",
       "      <td>2016-04-29</td>\n",
       "      <td>8</td>\n",
       "      <td>PONTAL DE CAMBURI</td>\n",
       "      <td>0</td>\n",
       "      <td>0</td>\n",
       "      <td>0</td>\n",
       "      <td>0</td>\n",
       "      <td>0</td>\n",
       "      <td>0</td>\n",
       "      <td>No</td>\n",
       "    </tr>\n",
       "    <tr>\n",
       "      <th>4</th>\n",
       "      <td>8.841186e+12</td>\n",
       "      <td>5642494</td>\n",
       "      <td>F</td>\n",
       "      <td>2016-04-29</td>\n",
       "      <td>2016-04-29</td>\n",
       "      <td>56</td>\n",
       "      <td>JARDIM DA PENHA</td>\n",
       "      <td>0</td>\n",
       "      <td>1</td>\n",
       "      <td>1</td>\n",
       "      <td>0</td>\n",
       "      <td>0</td>\n",
       "      <td>0</td>\n",
       "      <td>No</td>\n",
       "    </tr>\n",
       "  </tbody>\n",
       "</table>\n",
       "</div>"
      ],
      "text/plain": [
       "      PatientId  AppointmentID Gender ScheduledDay AppointmentDay  Age  \\\n",
       "0  2.987250e+13        5642903      F   2016-04-29     2016-04-29   62   \n",
       "1  5.589978e+14        5642503      M   2016-04-29     2016-04-29   56   \n",
       "2  4.262962e+12        5642549      F   2016-04-29     2016-04-29   62   \n",
       "3  8.679512e+11        5642828      F   2016-04-29     2016-04-29    8   \n",
       "4  8.841186e+12        5642494      F   2016-04-29     2016-04-29   56   \n",
       "\n",
       "       Neighbourhood  Scholarship  Hipertension  Diabetes  Alcoholism  \\\n",
       "0    JARDIM DA PENHA            0             1         0           0   \n",
       "1    JARDIM DA PENHA            0             0         0           0   \n",
       "2      MATA DA PRAIA            0             0         0           0   \n",
       "3  PONTAL DE CAMBURI            0             0         0           0   \n",
       "4    JARDIM DA PENHA            0             1         1           0   \n",
       "\n",
       "   Handcap  SMS_received No-show  \n",
       "0        0             0      No  \n",
       "1        0             0      No  \n",
       "2        0             0      No  \n",
       "3        0             0      No  \n",
       "4        0             0      No  "
      ]
     },
     "execution_count": 16,
     "metadata": {},
     "output_type": "execute_result"
    }
   ],
   "source": [
    "df.head()"
   ]
  },
  {
   "cell_type": "markdown",
   "metadata": {},
   "source": [
    "#### Converting both columns to date values instead of strings to compare between the two dates"
   ]
  },
  {
   "cell_type": "code",
   "execution_count": 17,
   "metadata": {},
   "outputs": [
    {
     "data": {
      "text/plain": [
       "0   2016-04-29\n",
       "1   2016-04-29\n",
       "2   2016-04-29\n",
       "3   2016-04-29\n",
       "4   2016-04-29\n",
       "Name: ScheduledDay, dtype: datetime64[ns]"
      ]
     },
     "execution_count": 17,
     "metadata": {},
     "output_type": "execute_result"
    }
   ],
   "source": [
    "df['ScheduledDay'] = pd.to_datetime(df['ScheduledDay'])\n",
    "df['ScheduledDay'].head()"
   ]
  },
  {
   "cell_type": "code",
   "execution_count": 18,
   "metadata": {},
   "outputs": [],
   "source": [
    "df['AppointmentDay']=pd.to_datetime(df['AppointmentDay'])"
   ]
  },
  {
   "cell_type": "markdown",
   "metadata": {},
   "source": [
    ">**Now, we will create the 'Time_diff' column which is the difference (in days ) between the scheduling date and the appointment date**"
   ]
  },
  {
   "cell_type": "code",
   "execution_count": 19,
   "metadata": {},
   "outputs": [],
   "source": [
    "df['Time_diff']=(df['AppointmentDay'] - df['ScheduledDay']).dt.days"
   ]
  },
  {
   "cell_type": "markdown",
   "metadata": {},
   "source": [
    "#### Checking the values in Time_diff column for any invalid values to be removed before analysis"
   ]
  },
  {
   "cell_type": "code",
   "execution_count": 20,
   "metadata": {},
   "outputs": [
    {
     "data": {
      "text/plain": [
       "-6          1\n",
       "-1          4\n",
       " 0      38563\n",
       " 1       5213\n",
       " 2       6725\n",
       " 3       2737\n",
       " 4       5290\n",
       " 5       3277\n",
       " 6       4037\n",
       " 7       4906\n",
       " 8       2332\n",
       " 9       1605\n",
       " 10      1391\n",
       " 11       987\n",
       " 12      1115\n",
       " 13      1682\n",
       " 14      2913\n",
       " 15      1503\n",
       " 16      1151\n",
       " 17      1107\n",
       " 18      1021\n",
       " 19      1044\n",
       " 20      1187\n",
       " 21      1861\n",
       " 22      1173\n",
       " 23       822\n",
       " 24       622\n",
       " 25       637\n",
       " 26       731\n",
       " 27      1013\n",
       "        ...  \n",
       " 101        1\n",
       " 102        4\n",
       " 103        5\n",
       " 104        8\n",
       " 105        4\n",
       " 107        2\n",
       " 108        5\n",
       " 109        5\n",
       " 110        2\n",
       " 111        5\n",
       " 112        5\n",
       " 115        2\n",
       " 117        1\n",
       " 119        4\n",
       " 122        3\n",
       " 123        1\n",
       " 125        1\n",
       " 126        1\n",
       " 127        1\n",
       " 132        1\n",
       " 133       11\n",
       " 139        1\n",
       " 142        8\n",
       " 146        1\n",
       " 151        1\n",
       " 155       10\n",
       " 162       11\n",
       " 169        8\n",
       " 176       16\n",
       " 179       10\n",
       "Name: Time_diff, Length: 131, dtype: int64"
      ]
     },
     "execution_count": 20,
     "metadata": {},
     "output_type": "execute_result"
    }
   ],
   "source": [
    "df.Time_diff.value_counts().sort_index()"
   ]
  },
  {
   "cell_type": "markdown",
   "metadata": {},
   "source": [
    ">**We have 2 negative values (-1, -6) which we need to remove their entries as they are errors (appointment date can't be before the scheduling date)**"
   ]
  },
  {
   "cell_type": "code",
   "execution_count": 21,
   "metadata": {},
   "outputs": [
    {
     "data": {
      "text/plain": [
       "count    110527.000000\n",
       "mean         10.183702\n",
       "std          15.254996\n",
       "min          -6.000000\n",
       "25%           0.000000\n",
       "50%           4.000000\n",
       "75%          15.000000\n",
       "max         179.000000\n",
       "Name: Time_diff, dtype: float64"
      ]
     },
     "execution_count": 21,
     "metadata": {},
     "output_type": "execute_result"
    }
   ],
   "source": [
    "df.Time_diff.describe()"
   ]
  },
  {
   "cell_type": "markdown",
   "metadata": {},
   "source": [
    "#### Replacing values in the _No-show_ column with integers instead of strings to aid in our analysis and visualization, and renaming the column to a more convenient name based on the new values"
   ]
  },
  {
   "cell_type": "code",
   "execution_count": 22,
   "metadata": {},
   "outputs": [],
   "source": [
    "df['No-show'].replace({\"Yes\":\"0\",\"No\":\"1\"}, inplace=True)"
   ]
  },
  {
   "cell_type": "code",
   "execution_count": 23,
   "metadata": {},
   "outputs": [],
   "source": [
    "df.rename(columns={'No-show':'Appointment_show'}, inplace=True)"
   ]
  },
  {
   "cell_type": "code",
   "execution_count": 24,
   "metadata": {},
   "outputs": [],
   "source": [
    "df['Appointment_show'] = df['Appointment_show'].astype(int)"
   ]
  },
  {
   "cell_type": "markdown",
   "metadata": {},
   "source": [
    "### Data Cleaning (removing wrong entries and unnecessary data columns)"
   ]
  },
  {
   "cell_type": "markdown",
   "metadata": {},
   "source": [
    "#### Removing the _'PatientId'_ and _'AppointmentID'_ columns from the dataset as they have no relevance in our analysis"
   ]
  },
  {
   "cell_type": "code",
   "execution_count": 25,
   "metadata": {},
   "outputs": [],
   "source": [
    "df.drop(['PatientId', 'AppointmentID'], axis=1, inplace=True)"
   ]
  },
  {
   "cell_type": "markdown",
   "metadata": {},
   "source": [
    "#### Removing the invalid entries mentioned earlier"
   ]
  },
  {
   "cell_type": "code",
   "execution_count": 26,
   "metadata": {},
   "outputs": [],
   "source": [
    "df=df[df.Age != -1]"
   ]
  },
  {
   "cell_type": "code",
   "execution_count": 27,
   "metadata": {},
   "outputs": [],
   "source": [
    "df = df[df.Time_diff != -1]"
   ]
  },
  {
   "cell_type": "code",
   "execution_count": 28,
   "metadata": {},
   "outputs": [],
   "source": [
    "df = df[df.Time_diff != -6]"
   ]
  },
  {
   "cell_type": "markdown",
   "metadata": {},
   "source": [
    "#### Testing for invalid entries"
   ]
  },
  {
   "cell_type": "code",
   "execution_count": 29,
   "metadata": {},
   "outputs": [
    {
     "data": {
      "text/html": [
       "<div>\n",
       "<style scoped>\n",
       "    .dataframe tbody tr th:only-of-type {\n",
       "        vertical-align: middle;\n",
       "    }\n",
       "\n",
       "    .dataframe tbody tr th {\n",
       "        vertical-align: top;\n",
       "    }\n",
       "\n",
       "    .dataframe thead th {\n",
       "        text-align: right;\n",
       "    }\n",
       "</style>\n",
       "<table border=\"1\" class=\"dataframe\">\n",
       "  <thead>\n",
       "    <tr style=\"text-align: right;\">\n",
       "      <th></th>\n",
       "      <th>Gender</th>\n",
       "      <th>ScheduledDay</th>\n",
       "      <th>AppointmentDay</th>\n",
       "      <th>Age</th>\n",
       "      <th>Neighbourhood</th>\n",
       "      <th>Scholarship</th>\n",
       "      <th>Hipertension</th>\n",
       "      <th>Diabetes</th>\n",
       "      <th>Alcoholism</th>\n",
       "      <th>Handcap</th>\n",
       "      <th>SMS_received</th>\n",
       "      <th>Appointment_show</th>\n",
       "      <th>Time_diff</th>\n",
       "    </tr>\n",
       "  </thead>\n",
       "  <tbody>\n",
       "  </tbody>\n",
       "</table>\n",
       "</div>"
      ],
      "text/plain": [
       "Empty DataFrame\n",
       "Columns: [Gender, ScheduledDay, AppointmentDay, Age, Neighbourhood, Scholarship, Hipertension, Diabetes, Alcoholism, Handcap, SMS_received, Appointment_show, Time_diff]\n",
       "Index: []"
      ]
     },
     "execution_count": 29,
     "metadata": {},
     "output_type": "execute_result"
    }
   ],
   "source": [
    "df.query('Age == -1')"
   ]
  },
  {
   "cell_type": "markdown",
   "metadata": {},
   "source": [
    "#### Removing 'ScheduledDay' and 'AppointmentDay' columns as they are no longer needed and 'Time_diff' column will be used instead"
   ]
  },
  {
   "cell_type": "code",
   "execution_count": 30,
   "metadata": {},
   "outputs": [],
   "source": [
    "df.drop(['ScheduledDay', 'AppointmentDay'], axis=1, inplace=True)"
   ]
  },
  {
   "cell_type": "markdown",
   "metadata": {},
   "source": [
    "#### After cleaning, this our current dataset that will be used in the analysis"
   ]
  },
  {
   "cell_type": "code",
   "execution_count": 31,
   "metadata": {},
   "outputs": [
    {
     "data": {
      "text/html": [
       "<div>\n",
       "<style scoped>\n",
       "    .dataframe tbody tr th:only-of-type {\n",
       "        vertical-align: middle;\n",
       "    }\n",
       "\n",
       "    .dataframe tbody tr th {\n",
       "        vertical-align: top;\n",
       "    }\n",
       "\n",
       "    .dataframe thead th {\n",
       "        text-align: right;\n",
       "    }\n",
       "</style>\n",
       "<table border=\"1\" class=\"dataframe\">\n",
       "  <thead>\n",
       "    <tr style=\"text-align: right;\">\n",
       "      <th></th>\n",
       "      <th>Gender</th>\n",
       "      <th>Age</th>\n",
       "      <th>Neighbourhood</th>\n",
       "      <th>Scholarship</th>\n",
       "      <th>Hipertension</th>\n",
       "      <th>Diabetes</th>\n",
       "      <th>Alcoholism</th>\n",
       "      <th>Handcap</th>\n",
       "      <th>SMS_received</th>\n",
       "      <th>Appointment_show</th>\n",
       "      <th>Time_diff</th>\n",
       "    </tr>\n",
       "  </thead>\n",
       "  <tbody>\n",
       "    <tr>\n",
       "      <th>0</th>\n",
       "      <td>F</td>\n",
       "      <td>62</td>\n",
       "      <td>JARDIM DA PENHA</td>\n",
       "      <td>0</td>\n",
       "      <td>1</td>\n",
       "      <td>0</td>\n",
       "      <td>0</td>\n",
       "      <td>0</td>\n",
       "      <td>0</td>\n",
       "      <td>1</td>\n",
       "      <td>0</td>\n",
       "    </tr>\n",
       "    <tr>\n",
       "      <th>1</th>\n",
       "      <td>M</td>\n",
       "      <td>56</td>\n",
       "      <td>JARDIM DA PENHA</td>\n",
       "      <td>0</td>\n",
       "      <td>0</td>\n",
       "      <td>0</td>\n",
       "      <td>0</td>\n",
       "      <td>0</td>\n",
       "      <td>0</td>\n",
       "      <td>1</td>\n",
       "      <td>0</td>\n",
       "    </tr>\n",
       "    <tr>\n",
       "      <th>2</th>\n",
       "      <td>F</td>\n",
       "      <td>62</td>\n",
       "      <td>MATA DA PRAIA</td>\n",
       "      <td>0</td>\n",
       "      <td>0</td>\n",
       "      <td>0</td>\n",
       "      <td>0</td>\n",
       "      <td>0</td>\n",
       "      <td>0</td>\n",
       "      <td>1</td>\n",
       "      <td>0</td>\n",
       "    </tr>\n",
       "    <tr>\n",
       "      <th>3</th>\n",
       "      <td>F</td>\n",
       "      <td>8</td>\n",
       "      <td>PONTAL DE CAMBURI</td>\n",
       "      <td>0</td>\n",
       "      <td>0</td>\n",
       "      <td>0</td>\n",
       "      <td>0</td>\n",
       "      <td>0</td>\n",
       "      <td>0</td>\n",
       "      <td>1</td>\n",
       "      <td>0</td>\n",
       "    </tr>\n",
       "    <tr>\n",
       "      <th>4</th>\n",
       "      <td>F</td>\n",
       "      <td>56</td>\n",
       "      <td>JARDIM DA PENHA</td>\n",
       "      <td>0</td>\n",
       "      <td>1</td>\n",
       "      <td>1</td>\n",
       "      <td>0</td>\n",
       "      <td>0</td>\n",
       "      <td>0</td>\n",
       "      <td>1</td>\n",
       "      <td>0</td>\n",
       "    </tr>\n",
       "  </tbody>\n",
       "</table>\n",
       "</div>"
      ],
      "text/plain": [
       "  Gender  Age      Neighbourhood  Scholarship  Hipertension  Diabetes  \\\n",
       "0      F   62    JARDIM DA PENHA            0             1         0   \n",
       "1      M   56    JARDIM DA PENHA            0             0         0   \n",
       "2      F   62      MATA DA PRAIA            0             0         0   \n",
       "3      F    8  PONTAL DE CAMBURI            0             0         0   \n",
       "4      F   56    JARDIM DA PENHA            0             1         1   \n",
       "\n",
       "   Alcoholism  Handcap  SMS_received  Appointment_show  Time_diff  \n",
       "0           0        0             0                 1          0  \n",
       "1           0        0             0                 1          0  \n",
       "2           0        0             0                 1          0  \n",
       "3           0        0             0                 1          0  \n",
       "4           0        0             0                 1          0  "
      ]
     },
     "execution_count": 31,
     "metadata": {},
     "output_type": "execute_result"
    }
   ],
   "source": [
    "df.head()"
   ]
  },
  {
   "cell_type": "markdown",
   "metadata": {},
   "source": [
    "#### Exploring trends among the data for the exploratory phase"
   ]
  },
  {
   "cell_type": "code",
   "execution_count": 32,
   "metadata": {},
   "outputs": [
    {
     "data": {
      "image/png": "[encoded data removed]",
      "text/plain": [
       "<matplotlib.figure.Figure at 0x7f50d94dd7f0>"
      ]
     },
     "metadata": {
      "needs_background": "light"
     },
     "output_type": "display_data"
    }
   ],
   "source": [
    "df.hist(figsize=(10,10));"
   ]
  },
  {
   "cell_type": "markdown",
   "metadata": {},
   "source": [
    "<a id='eda'></a>\n",
    "## Exploratory Data Analysis\n",
    "\n",
    "> **In this section, we are going to analyze the data to explore which factors cause patients to not show to their doctor appointments. We will start with the inherent factors (Age and illness), then we will look into external factors (The place where the appointment takes place, time from scheduling the appointment, if the patient received scholarship and whether or not the patient received an SMS for his appointment).**\n",
    "\n",
    "\n",
    "### Research Question 1 - Does the age of the patients affect their show rates?"
   ]
  },
  {
   "cell_type": "markdown",
   "metadata": {},
   "source": [
    "#### We are going to get the proportion of patients of each age who showed up for their appointments by dividing the total number of patients of that age by the number of appointment hsow patients, then plotting it against the different ages to determine if there is a relation between age of patients and show rates:"
   ]
  },
  {
   "cell_type": "markdown",
   "metadata": {},
   "source": [
    "##### Total patient count per age:"
   ]
  },
  {
   "cell_type": "code",
   "execution_count": 33,
   "metadata": {},
   "outputs": [],
   "source": [
    "Age_counts=df.Age.value_counts().sort_index()"
   ]
  },
  {
   "cell_type": "markdown",
   "metadata": {},
   "source": [
    "##### Total patient count who showed up for their appointments per age:"
   ]
  },
  {
   "cell_type": "code",
   "execution_count": 34,
   "metadata": {},
   "outputs": [],
   "source": [
    "Age_show=df.groupby('Age').sum()['Appointment_show']"
   ]
  },
  {
   "cell_type": "markdown",
   "metadata": {},
   "source": [
    "##### 'Age percent' will represent patient proportion that showed up for their appointments per age, and we will plot it against different ages along with a median line to show variations:"
   ]
  },
  {
   "cell_type": "code",
   "execution_count": 61,
   "metadata": {},
   "outputs": [
    {
     "data": {
      "image/png": "[encoded data removed]",
      "text/plain": [
       "<matplotlib.figure.Figure at 0x7f50d6fbf518>"
      ]
     },
     "metadata": {
      "needs_background": "light"
     },
     "output_type": "display_data"
    },
    {
     "data": {
      "text/plain": [
       "count    110521.000000\n",
       "mean         37.089386\n",
       "std          23.109885\n",
       "min           0.000000\n",
       "25%          18.000000\n",
       "50%          37.000000\n",
       "75%          55.000000\n",
       "max         115.000000\n",
       "Name: Age, dtype: float64"
      ]
     },
     "execution_count": 61,
     "metadata": {},
     "output_type": "execute_result"
    }
   ],
   "source": [
    "Age_percent = Age_show / Age_counts\n",
    "fig, ax=plt.subplots(figsize=(10,10))\n",
    "rects1=ax.scatter(np.sort(df.Age.unique()), Age_percent, label='Age show rate')\n",
    "rects2=ax.plot(np.sort(df.Age.unique()), [np.mean(Age_percent)]*len(df.Age.unique()), label='Mean', linestyle='--')\n",
    "ax.set_title('Analysis of age of patients against their show rate', fontdict={'fontsize': 14, 'fontweight': 'heavy'})\n",
    "ax.set_xlabel('Age in years', fontdict={'fontsize': 12, 'fontweight': 'heavy'})\n",
    "ax.set_ylabel('Patient show rate (Show patients / Total patients)', fontdict={'fontsize': 12, 'fontweight': 'heavy'})\n",
    "plt.legend()\n",
    "plt.show()\n",
    "fig.tight_layout()\n",
    "df.Age.describe()"
   ]
  },
  {
   "cell_type": "markdown",
   "metadata": {},
   "source": [
    ">**From the above graph, we can see that Appointment show rates are different across different ages, with _young people (Age 8:35)_ having slightly lower appointment show rates, and _geriatrics (Age>60)_ having slightly higher show rates**"
   ]
  },
  {
   "cell_type": "markdown",
   "metadata": {},
   "source": [
    "### Research Question 2 - Are chronically-ill patients less or more likely to show for their appointments?"
   ]
  },
  {
   "cell_type": "markdown",
   "metadata": {},
   "source": [
    "#### Here we will compare patients' different disease states against their show rates by getting total patient count for each disease state and plotting it as a barchart alongside the number of patients who showed for their appointment for each disease (Hypertension, Diabetes and Alcoholism)."
   ]
  },
  {
   "cell_type": "markdown",
   "metadata": {},
   "source": [
    "##### Total number of patients having hypertension:"
   ]
  },
  {
   "cell_type": "code",
   "execution_count": 36,
   "metadata": {},
   "outputs": [
    {
     "data": {
      "text/plain": [
       "0    88720\n",
       "1    21801\n",
       "Name: Hipertension, dtype: int64"
      ]
     },
     "execution_count": 36,
     "metadata": {},
     "output_type": "execute_result"
    }
   ],
   "source": [
    "Hypertension_count=df.Hipertension.value_counts().sort_index()\n",
    "Hypertension_count"
   ]
  },
  {
   "cell_type": "markdown",
   "metadata": {},
   "source": [
    "##### Total number of patients having hypertension and showed up for their appointments:"
   ]
  },
  {
   "cell_type": "code",
   "execution_count": 37,
   "metadata": {},
   "outputs": [
    {
     "data": {
      "text/plain": [
       "Hipertension\n",
       "0    70178\n",
       "1    18029\n",
       "Name: Appointment_show, dtype: int64"
      ]
     },
     "execution_count": 37,
     "metadata": {},
     "output_type": "execute_result"
    }
   ],
   "source": [
    "Hypertension_show=df.groupby('Hipertension').sum()['Appointment_show']\n",
    "Hypertension_show"
   ]
  },
  {
   "cell_type": "markdown",
   "metadata": {},
   "source": [
    "##### Total number of patients having diabetes:"
   ]
  },
  {
   "cell_type": "code",
   "execution_count": 38,
   "metadata": {},
   "outputs": [
    {
     "data": {
      "text/plain": [
       "0    102578\n",
       "1      7943\n",
       "Name: Diabetes, dtype: int64"
      ]
     },
     "execution_count": 38,
     "metadata": {},
     "output_type": "execute_result"
    }
   ],
   "source": [
    "Diabetes_count=df.Diabetes.value_counts().sort_index()\n",
    "Diabetes_count"
   ]
  },
  {
   "cell_type": "markdown",
   "metadata": {},
   "source": [
    "##### Total number of patients having diabetes and showed up for their appointments:"
   ]
  },
  {
   "cell_type": "code",
   "execution_count": 39,
   "metadata": {},
   "outputs": [
    {
     "data": {
      "text/plain": [
       "Diabetes\n",
       "0    81694\n",
       "1     6513\n",
       "Name: Appointment_show, dtype: int64"
      ]
     },
     "execution_count": 39,
     "metadata": {},
     "output_type": "execute_result"
    }
   ],
   "source": [
    "Diabetes_show=df.groupby('Diabetes').sum()['Appointment_show']\n",
    "Diabetes_show"
   ]
  },
  {
   "cell_type": "markdown",
   "metadata": {},
   "source": [
    "##### Total number of alcoholic patients:"
   ]
  },
  {
   "cell_type": "code",
   "execution_count": 40,
   "metadata": {},
   "outputs": [
    {
     "data": {
      "text/plain": [
       "0    107161\n",
       "1      3360\n",
       "Name: Alcoholism, dtype: int64"
      ]
     },
     "execution_count": 40,
     "metadata": {},
     "output_type": "execute_result"
    }
   ],
   "source": [
    "Alcoholism_count=df.Alcoholism.value_counts().sort_index()\n",
    "Alcoholism_count"
   ]
  },
  {
   "cell_type": "markdown",
   "metadata": {},
   "source": [
    "##### Total number of alcoholic patients and showed up for their appointments:"
   ]
  },
  {
   "cell_type": "code",
   "execution_count": 41,
   "metadata": {},
   "outputs": [
    {
     "data": {
      "text/plain": [
       "Alcoholism\n",
       "0    85524\n",
       "1     2683\n",
       "Name: Appointment_show, dtype: int64"
      ]
     },
     "execution_count": 41,
     "metadata": {},
     "output_type": "execute_result"
    }
   ],
   "source": [
    "Alcoholism_show=df.groupby('Alcoholism').sum()['Appointment_show']\n",
    "Alcoholism_show"
   ]
  },
  {
   "cell_type": "markdown",
   "metadata": {},
   "source": [
    "##### Now, we will plot a barchart with bars for the total patient count of each diease state next to bars for the number of patients who showed up for their appointments and having the same health issue, and we will compare them with bars for healthy individuals and their show rate:"
   ]
  },
  {
   "cell_type": "code",
   "execution_count": 42,
   "metadata": {},
   "outputs": [
    {
     "data": {
      "image/png": "[encoded data removed]",
      "text/plain": [
       "<matplotlib.figure.Figure at 0x7f50d6dcde48>"
      ]
     },
     "metadata": {
      "needs_background": "light"
     },
     "output_type": "display_data"
    },
    {
     "data": {
      "text/html": [
       "<div>\n",
       "<style scoped>\n",
       "    .dataframe tbody tr th:only-of-type {\n",
       "        vertical-align: middle;\n",
       "    }\n",
       "\n",
       "    .dataframe tbody tr th {\n",
       "        vertical-align: top;\n",
       "    }\n",
       "\n",
       "    .dataframe thead th {\n",
       "        text-align: right;\n",
       "    }\n",
       "</style>\n",
       "<table border=\"1\" class=\"dataframe\">\n",
       "  <thead>\n",
       "    <tr style=\"text-align: right;\">\n",
       "      <th></th>\n",
       "      <th></th>\n",
       "      <th>Appointment_show</th>\n",
       "    </tr>\n",
       "    <tr>\n",
       "      <th>Diabetes</th>\n",
       "      <th>Appointment_show</th>\n",
       "      <th></th>\n",
       "    </tr>\n",
       "  </thead>\n",
       "  <tbody>\n",
       "    <tr>\n",
       "      <th rowspan=\"2\" valign=\"top\">0</th>\n",
       "      <th>0</th>\n",
       "      <td>20884</td>\n",
       "    </tr>\n",
       "    <tr>\n",
       "      <th>1</th>\n",
       "      <td>81694</td>\n",
       "    </tr>\n",
       "    <tr>\n",
       "      <th rowspan=\"2\" valign=\"top\">1</th>\n",
       "      <th>0</th>\n",
       "      <td>1430</td>\n",
       "    </tr>\n",
       "    <tr>\n",
       "      <th>1</th>\n",
       "      <td>6513</td>\n",
       "    </tr>\n",
       "  </tbody>\n",
       "</table>\n",
       "</div>"
      ],
      "text/plain": [
       "                           Appointment_show\n",
       "Diabetes Appointment_show                  \n",
       "0        0                            20884\n",
       "         1                            81694\n",
       "1        0                             1430\n",
       "         1                             6513"
      ]
     },
     "execution_count": 42,
     "metadata": {},
     "output_type": "execute_result"
    }
   ],
   "source": [
    "labels=['Healthy', 'ill']\n",
    "x=np.arange(len(labels))\n",
    "fig, ax=plt.subplots(figsize=(14,14))\n",
    "rects1=ax.bar(x, Diabetes_count, width=0.1, label='Diabetic patients count')\n",
    "rects2=ax.bar(x+0.1, Diabetes_show, width=0.1, label='Appointment show patients')\n",
    "rects3=ax.bar(x+0.3, Hypertension_count, width=0.1, label='Hypertensive patients count')\n",
    "rects4=ax.bar(x+0.4, Hypertension_show, width=0.1, label='Appointment show patients count')\n",
    "rects5=ax.bar(x+0.6, Alcoholism_count, width=0.1, label='Alcoholic patients count')\n",
    "rects6=ax.bar(x+0.7, Alcoholism_show, width=0.1, label='Appointment show patients count')\n",
    "ax.set_title('The effect of chronic illness and alcoholism on patients show rate', fontdict={'fontsize': 13, 'fontweight': 'heavy'}, loc='right')\n",
    "ax.set_xlabel('Patient status', fontdict={'fontsize': 12, 'fontweight': 'heavy'})\n",
    "ax.set_ylabel('Patient count', fontdict={'fontsize': 12, 'fontweight': 'heavy'})\n",
    "ax.set_xticks(x + 0.6 / 2)\n",
    "ax.set_xticklabels(labels)\n",
    "def autolabel(rects):\n",
    "    \"\"\"\n",
    "    Attach a text label above each bar displaying its height\n",
    "    \"\"\"\n",
    "    for rect in rects:\n",
    "        height = rect.get_height()\n",
    "        ax.text(rect.get_x() + rect.get_width()/2., 1.05*height,\n",
    "                '%d' % int(height),\n",
    "                ha='center', va='bottom')\n",
    "\n",
    "autolabel(rects1)\n",
    "autolabel(rects2)\n",
    "autolabel(rects3)\n",
    "autolabel(rects4)\n",
    "autolabel(rects5)\n",
    "autolabel(rects6)\n",
    "plt.legend()\n",
    "plt.show()\n",
    "fig.tight_layout()\n",
    "df.groupby(['Diabetes', 'Appointment_show'])[['Appointment_show']].count()"
   ]
  },
  {
   "cell_type": "markdown",
   "metadata": {},
   "source": [
    "##### Illustrating the results in a numerical form which shows the numbers of patient showing (1) and not showing (0) for their appointments and whether they have the disease (1) or not (0):"
   ]
  },
  {
   "cell_type": "code",
   "execution_count": 43,
   "metadata": {},
   "outputs": [
    {
     "data": {
      "text/html": [
       "<div>\n",
       "<style scoped>\n",
       "    .dataframe tbody tr th:only-of-type {\n",
       "        vertical-align: middle;\n",
       "    }\n",
       "\n",
       "    .dataframe tbody tr th {\n",
       "        vertical-align: top;\n",
       "    }\n",
       "\n",
       "    .dataframe thead th {\n",
       "        text-align: right;\n",
       "    }\n",
       "</style>\n",
       "<table border=\"1\" class=\"dataframe\">\n",
       "  <thead>\n",
       "    <tr style=\"text-align: right;\">\n",
       "      <th></th>\n",
       "      <th></th>\n",
       "      <th>Appointment_show</th>\n",
       "    </tr>\n",
       "    <tr>\n",
       "      <th>Hipertension</th>\n",
       "      <th>Appointment_show</th>\n",
       "      <th></th>\n",
       "    </tr>\n",
       "  </thead>\n",
       "  <tbody>\n",
       "    <tr>\n",
       "      <th rowspan=\"2\" valign=\"top\">0</th>\n",
       "      <th>0</th>\n",
       "      <td>18542</td>\n",
       "    </tr>\n",
       "    <tr>\n",
       "      <th>1</th>\n",
       "      <td>70178</td>\n",
       "    </tr>\n",
       "    <tr>\n",
       "      <th rowspan=\"2\" valign=\"top\">1</th>\n",
       "      <th>0</th>\n",
       "      <td>3772</td>\n",
       "    </tr>\n",
       "    <tr>\n",
       "      <th>1</th>\n",
       "      <td>18029</td>\n",
       "    </tr>\n",
       "  </tbody>\n",
       "</table>\n",
       "</div>"
      ],
      "text/plain": [
       "                               Appointment_show\n",
       "Hipertension Appointment_show                  \n",
       "0            0                            18542\n",
       "             1                            70178\n",
       "1            0                             3772\n",
       "             1                            18029"
      ]
     },
     "execution_count": 43,
     "metadata": {},
     "output_type": "execute_result"
    }
   ],
   "source": [
    "df.groupby(['Hipertension', 'Appointment_show'])[['Appointment_show']].count()"
   ]
  },
  {
   "cell_type": "code",
   "execution_count": 44,
   "metadata": {},
   "outputs": [
    {
     "data": {
      "text/html": [
       "<div>\n",
       "<style scoped>\n",
       "    .dataframe tbody tr th:only-of-type {\n",
       "        vertical-align: middle;\n",
       "    }\n",
       "\n",
       "    .dataframe tbody tr th {\n",
       "        vertical-align: top;\n",
       "    }\n",
       "\n",
       "    .dataframe thead th {\n",
       "        text-align: right;\n",
       "    }\n",
       "</style>\n",
       "<table border=\"1\" class=\"dataframe\">\n",
       "  <thead>\n",
       "    <tr style=\"text-align: right;\">\n",
       "      <th></th>\n",
       "      <th></th>\n",
       "      <th>Appointment_show</th>\n",
       "    </tr>\n",
       "    <tr>\n",
       "      <th>Alcoholism</th>\n",
       "      <th>Appointment_show</th>\n",
       "      <th></th>\n",
       "    </tr>\n",
       "  </thead>\n",
       "  <tbody>\n",
       "    <tr>\n",
       "      <th rowspan=\"2\" valign=\"top\">0</th>\n",
       "      <th>0</th>\n",
       "      <td>21637</td>\n",
       "    </tr>\n",
       "    <tr>\n",
       "      <th>1</th>\n",
       "      <td>85524</td>\n",
       "    </tr>\n",
       "    <tr>\n",
       "      <th rowspan=\"2\" valign=\"top\">1</th>\n",
       "      <th>0</th>\n",
       "      <td>677</td>\n",
       "    </tr>\n",
       "    <tr>\n",
       "      <th>1</th>\n",
       "      <td>2683</td>\n",
       "    </tr>\n",
       "  </tbody>\n",
       "</table>\n",
       "</div>"
      ],
      "text/plain": [
       "                             Appointment_show\n",
       "Alcoholism Appointment_show                  \n",
       "0          0                            21637\n",
       "           1                            85524\n",
       "1          0                              677\n",
       "           1                             2683"
      ]
     },
     "execution_count": 44,
     "metadata": {},
     "output_type": "execute_result"
    }
   ],
   "source": [
    "df.groupby(['Alcoholism', 'Appointment_show'])[['Appointment_show']].count()"
   ]
  },
  {
   "cell_type": "markdown",
   "metadata": {},
   "source": [
    ">**From the above analysis, patients with a chronic illness such as diabetes or hypertension, or alcoholic patients are more likely to show for their appointments than healthier individuals.**"
   ]
  },
  {
   "cell_type": "markdown",
   "metadata": {},
   "source": [
    "#### Analysing the effect of handicap on patients show rate by the same method as we did in the chronic diease conditions, compare show rates for healthy and handicapped patients"
   ]
  },
  {
   "cell_type": "markdown",
   "metadata": {},
   "source": [
    "##### Total handicapped patients count for every handicap:"
   ]
  },
  {
   "cell_type": "code",
   "execution_count": 45,
   "metadata": {},
   "outputs": [
    {
     "data": {
      "text/plain": [
       "0    108282\n",
       "1      2040\n",
       "2       183\n",
       "3        13\n",
       "4         3\n",
       "Name: Handcap, dtype: int64"
      ]
     },
     "execution_count": 45,
     "metadata": {},
     "output_type": "execute_result"
    }
   ],
   "source": [
    "Handcap_count=df.Handcap.value_counts().sort_index()\n",
    "Handcap_count"
   ]
  },
  {
   "cell_type": "markdown",
   "metadata": {},
   "source": [
    "##### Appointment show numbers for every handicap:"
   ]
  },
  {
   "cell_type": "code",
   "execution_count": 46,
   "metadata": {},
   "outputs": [
    {
     "data": {
      "text/plain": [
       "Handcap\n",
       "0    86373\n",
       "1     1676\n",
       "2      146\n",
       "3       10\n",
       "4        2\n",
       "Name: Appointment_show, dtype: int64"
      ]
     },
     "execution_count": 46,
     "metadata": {},
     "output_type": "execute_result"
    }
   ],
   "source": [
    "Handcap_show=df.groupby('Handcap').sum()['Appointment_show']\n",
    "Handcap_show"
   ]
  },
  {
   "cell_type": "markdown",
   "metadata": {},
   "source": [
    "##### Plotting a bargraph to compare show rates among different handicaps"
   ]
  },
  {
   "cell_type": "code",
   "execution_count": 47,
   "metadata": {},
   "outputs": [
    {
     "data": {
      "image/png": "[encoded data removed]",
      "text/plain": [
       "<matplotlib.figure.Figure at 0x7f50d6dcd8d0>"
      ]
     },
     "metadata": {
      "needs_background": "light"
     },
     "output_type": "display_data"
    },
    {
     "data": {
      "text/html": [
       "<div>\n",
       "<style scoped>\n",
       "    .dataframe tbody tr th:only-of-type {\n",
       "        vertical-align: middle;\n",
       "    }\n",
       "\n",
       "    .dataframe tbody tr th {\n",
       "        vertical-align: top;\n",
       "    }\n",
       "\n",
       "    .dataframe thead th {\n",
       "        text-align: right;\n",
       "    }\n",
       "</style>\n",
       "<table border=\"1\" class=\"dataframe\">\n",
       "  <thead>\n",
       "    <tr style=\"text-align: right;\">\n",
       "      <th></th>\n",
       "      <th></th>\n",
       "      <th>Appointment_show</th>\n",
       "    </tr>\n",
       "    <tr>\n",
       "      <th>Handcap</th>\n",
       "      <th>Appointment_show</th>\n",
       "      <th></th>\n",
       "    </tr>\n",
       "  </thead>\n",
       "  <tbody>\n",
       "    <tr>\n",
       "      <th rowspan=\"2\" valign=\"top\">0</th>\n",
       "      <th>0</th>\n",
       "      <td>21909</td>\n",
       "    </tr>\n",
       "    <tr>\n",
       "      <th>1</th>\n",
       "      <td>86373</td>\n",
       "    </tr>\n",
       "    <tr>\n",
       "      <th rowspan=\"2\" valign=\"top\">1</th>\n",
       "      <th>0</th>\n",
       "      <td>364</td>\n",
       "    </tr>\n",
       "    <tr>\n",
       "      <th>1</th>\n",
       "      <td>1676</td>\n",
       "    </tr>\n",
       "    <tr>\n",
       "      <th rowspan=\"2\" valign=\"top\">2</th>\n",
       "      <th>0</th>\n",
       "      <td>37</td>\n",
       "    </tr>\n",
       "    <tr>\n",
       "      <th>1</th>\n",
       "      <td>146</td>\n",
       "    </tr>\n",
       "    <tr>\n",
       "      <th rowspan=\"2\" valign=\"top\">3</th>\n",
       "      <th>0</th>\n",
       "      <td>3</td>\n",
       "    </tr>\n",
       "    <tr>\n",
       "      <th>1</th>\n",
       "      <td>10</td>\n",
       "    </tr>\n",
       "    <tr>\n",
       "      <th rowspan=\"2\" valign=\"top\">4</th>\n",
       "      <th>0</th>\n",
       "      <td>1</td>\n",
       "    </tr>\n",
       "    <tr>\n",
       "      <th>1</th>\n",
       "      <td>2</td>\n",
       "    </tr>\n",
       "  </tbody>\n",
       "</table>\n",
       "</div>"
      ],
      "text/plain": [
       "                          Appointment_show\n",
       "Handcap Appointment_show                  \n",
       "0       0                            21909\n",
       "        1                            86373\n",
       "1       0                              364\n",
       "        1                             1676\n",
       "2       0                               37\n",
       "        1                              146\n",
       "3       0                                3\n",
       "        1                               10\n",
       "4       0                                1\n",
       "        1                                2"
      ]
     },
     "execution_count": 47,
     "metadata": {},
     "output_type": "execute_result"
    }
   ],
   "source": [
    "labels=['Normal', 'Slight Handicap', 'Moderate Handicap', 'Severe Handicap', 'Total Handicap']\n",
    "x=np.arange(len(labels))\n",
    "fig, ax=plt.subplots(figsize=(10,10))\n",
    "rects1=ax.bar(x, Handcap_count, width=0.2, label='Total patients count')\n",
    "rects2=ax.bar(x+0.2, Handcap_show, width=0.2, label='Appointment show patients')\n",
    "ax.set_title('Handicapped patients analysis', fontdict={'fontsize': 14, 'fontweight': 'heavy'})\n",
    "ax.set_xlabel('Patient status', fontdict={'fontsize': 12, 'fontweight': 'heavy'})\n",
    "ax.set_ylabel('Patient count', fontdict={'fontsize': 12, 'fontweight': 'heavy'})\n",
    "ax.set_xticks(x + 0.2 / 2)\n",
    "ax.set_xticklabels(labels)\n",
    "autolabel(rects1)\n",
    "autolabel(rects2)\n",
    "plt.legend()\n",
    "plt.show()\n",
    "fig.tight_layout()\n",
    "df.groupby(['Handcap', 'Appointment_show'])[['Appointment_show']].count()"
   ]
  },
  {
   "cell_type": "markdown",
   "metadata": {},
   "source": [
    ">**From the above analysis, handicapped patients appear to have the same appointment show rates as healthy ones**"
   ]
  },
  {
   "cell_type": "markdown",
   "metadata": {},
   "source": [
    "### Research Question 3 - Do some neighbourhoods have better show rates than the others? If the appointment is in a certain neighbourhood, patients will be more likely to show for their appointment?"
   ]
  },
  {
   "cell_type": "markdown",
   "metadata": {},
   "source": [
    "#### To answer this question, we will have to get the number of patients showing up for their appointments for each neighbourhood to compare it against the total number of appointments made in the neighbourhood. \n",
    "#### We can do this by subtracting the number of no_show patients in each neighbourhood from the total number of patients who had appointments in that neighbourhood."
   ]
  },
  {
   "cell_type": "code",
   "execution_count": 48,
   "metadata": {},
   "outputs": [
    {
     "data": {
      "text/plain": [
       "AEROPORTO                 7.0\n",
       "ANDORINHAS             1741.0\n",
       "ANTÔNIO HONÓRIO         221.0\n",
       "ARIOVALDO FAVALESSA     220.0\n",
       "BARRO VERMELHO          332.0\n",
       "BELA VISTA             1523.0\n",
       "BENTO FERREIRA          665.0\n",
       "BOA VISTA               254.0\n",
       "BONFIM                 2223.0\n",
       "CARATOÍRA              1974.0\n",
       "CENTRO                 2631.0\n",
       "COMDUSA                 254.0\n",
       "CONQUISTA               689.0\n",
       "CONSOLAÇÃO             1139.0\n",
       "CRUZAMENTO             1094.0\n",
       "DA PENHA               1788.0\n",
       "DE LOURDES              258.0\n",
       "DO CABRAL               472.0\n",
       "DO MOSCOSO              321.0\n",
       "DO QUADRO               709.0\n",
       "ENSEADA DO SUÁ          183.0\n",
       "ESTRELINHA              432.0\n",
       "FONTE GRANDE            533.0\n",
       "FORTE SÃO JOÃO         1543.0\n",
       "FRADINHOS               210.0\n",
       "GOIABEIRAS              563.0\n",
       "GRANDE VITÓRIA          854.0\n",
       "GURIGICA               1562.0\n",
       "HORTO                   133.0\n",
       "ILHA DAS CAIEIRAS       836.0\n",
       "                        ...  \n",
       "PARQUE INDUSTRIAL         NaN\n",
       "PARQUE MOSCOSO          623.0\n",
       "PIEDADE                 364.0\n",
       "PONTAL DE CAMBURI        57.0\n",
       "PRAIA DO CANTO          845.0\n",
       "PRAIA DO SUÁ            994.0\n",
       "REDENÇÃO               1278.0\n",
       "REPÚBLICA               692.0\n",
       "RESISTÊNCIA            3525.0\n",
       "ROMÃO                  1740.0\n",
       "SANTA CECÍLIA           325.0\n",
       "SANTA CLARA             372.0\n",
       "SANTA HELENA            141.0\n",
       "SANTA LUÍZA             351.0\n",
       "SANTA LÚCIA             352.0\n",
       "SANTA MARTHA           2635.0\n",
       "SANTA TEREZA           1060.0\n",
       "SANTO ANDRÉ            2063.0\n",
       "SANTO ANTÔNIO          2262.0\n",
       "SANTOS DUMONT           907.0\n",
       "SANTOS REIS             435.0\n",
       "SEGURANÇA DO LAR        117.0\n",
       "SOLON BORGES            400.0\n",
       "SÃO BENEDITO           1152.0\n",
       "SÃO CRISTÓVÃO          1473.0\n",
       "SÃO JOSÉ               1549.0\n",
       "SÃO PEDRO              1933.0\n",
       "TABUAZEIRO             2559.0\n",
       "UNIVERSITÁRIO           120.0\n",
       "VILA RUBIM              710.0\n",
       "Name: Neighbourhood, Length: 81, dtype: float64"
      ]
     },
     "execution_count": 48,
     "metadata": {},
     "output_type": "execute_result"
    }
   ],
   "source": [
    "difference_nei = df.Neighbourhood.value_counts().sort_index() - df.query('Appointment_show == 0').Neighbourhood.value_counts().sort_index()\n",
    "difference_nei"
   ]
  },
  {
   "cell_type": "markdown",
   "metadata": {},
   "source": [
    "##### We notice that the new dataset contains only 80 entries while the neighbourhoods index contains 81, this is due to null values for one nieghbourhood, so we will fill any null values with zeroes to be able to plot it with the same dimensions as the neighbourhoods index on a graph."
   ]
  },
  {
   "cell_type": "code",
   "execution_count": 49,
   "metadata": {},
   "outputs": [],
   "source": [
    "difference_nei = difference_nei.fillna(0).astype(int)"
   ]
  },
  {
   "cell_type": "markdown",
   "metadata": {},
   "source": [
    "##### Plotting the number of patients showing up for their appointments against the total patient number in each neighbourhood:"
   ]
  },
  {
   "cell_type": "code",
   "execution_count": 50,
   "metadata": {},
   "outputs": [
    {
     "data": {
      "image/png": "[encoded data removed]",
      "text/plain": [
       "<matplotlib.figure.Figure at 0x7f50d6dc2ac8>"
      ]
     },
     "metadata": {
      "needs_background": "light"
     },
     "output_type": "display_data"
    }
   ],
   "source": [
    "labels=np.sort(df.Neighbourhood.unique())\n",
    "x=np.arange(len(labels))\n",
    "fig, ax=plt.subplots(figsize=(17,17))\n",
    "rects1=ax.bar(x, df.Neighbourhood.value_counts().sort_index(), label='Total patients count')\n",
    "rects2=ax.bar(x, difference_nei, label='Appointment show patients')\n",
    "ax.set_title('Analysis of show rates for different Neighbourhoods', fontdict={'fontsize': 14, 'fontweight': 'heavy'}, loc='left')\n",
    "ax.set_xlabel('Neighbourhoods', fontdict={'fontsize': 12, 'fontweight': 'heavy'})\n",
    "ax.set_ylabel('Patient count', fontdict={'fontsize': 12, 'fontweight': 'heavy'})\n",
    "ax.set_xticks(x + 0.2 / 2)\n",
    "ax.set_xticklabels(labels)\n",
    "autolabel(rects1)\n",
    "autolabel(rects2)\n",
    "plt.xticks(rotation=90)\n",
    "plt.legend()\n",
    "plt.show()\n",
    "fig.tight_layout()"
   ]
  },
  {
   "cell_type": "markdown",
   "metadata": {},
   "source": [
    ">**From the above figure, neighbourhoods have similar show rates with slight variations in some of them.**"
   ]
  },
  {
   "cell_type": "markdown",
   "metadata": {},
   "source": [
    "### Research Question 4 - Are the patients getting scholarships (welfare) more likely to show for their appointments or not?"
   ]
  },
  {
   "cell_type": "markdown",
   "metadata": {},
   "source": [
    "#### To answer this question, we will compare the show rate of patients with scholarships against those who didn't receive scholarships (welfare)."
   ]
  },
  {
   "cell_type": "markdown",
   "metadata": {},
   "source": [
    "##### Getting the total number of patients who showed for their appointments:"
   ]
  },
  {
   "cell_type": "code",
   "execution_count": 51,
   "metadata": {},
   "outputs": [
    {
     "data": {
      "text/plain": [
       "0    79924\n",
       "1     8283\n",
       "Name: Scholarship, dtype: int64"
      ]
     },
     "execution_count": 51,
     "metadata": {},
     "output_type": "execute_result"
    }
   ],
   "source": [
    "df.query('Appointment_show == 1').Scholarship.value_counts().sort_index()"
   ]
  },
  {
   "cell_type": "markdown",
   "metadata": {},
   "source": [
    "##### Getting the total number of patients who didn't show for their appointments:"
   ]
  },
  {
   "cell_type": "code",
   "execution_count": 52,
   "metadata": {},
   "outputs": [
    {
     "data": {
      "text/plain": [
       "0    19736\n",
       "1     2578\n",
       "Name: Scholarship, dtype: int64"
      ]
     },
     "execution_count": 52,
     "metadata": {},
     "output_type": "execute_result"
    }
   ],
   "source": [
    "df.query('Appointment_show == 0').Scholarship.value_counts().sort_index()"
   ]
  },
  {
   "cell_type": "markdown",
   "metadata": {},
   "source": [
    "##### Plotting the previously obtained numbers as barplot to compare show rates:"
   ]
  },
  {
   "cell_type": "code",
   "execution_count": 53,
   "metadata": {},
   "outputs": [
    {
     "data": {
      "image/png": "[encoded data removed]",
      "text/plain": [
       "<matplotlib.figure.Figure at 0x7f50d6aad358>"
      ]
     },
     "metadata": {
      "needs_background": "light"
     },
     "output_type": "display_data"
    },
    {
     "data": {
      "text/html": [
       "<div>\n",
       "<style scoped>\n",
       "    .dataframe tbody tr th:only-of-type {\n",
       "        vertical-align: middle;\n",
       "    }\n",
       "\n",
       "    .dataframe tbody tr th {\n",
       "        vertical-align: top;\n",
       "    }\n",
       "\n",
       "    .dataframe thead th {\n",
       "        text-align: right;\n",
       "    }\n",
       "</style>\n",
       "<table border=\"1\" class=\"dataframe\">\n",
       "  <thead>\n",
       "    <tr style=\"text-align: right;\">\n",
       "      <th></th>\n",
       "      <th></th>\n",
       "      <th>Appointment_show</th>\n",
       "    </tr>\n",
       "    <tr>\n",
       "      <th>Scholarship</th>\n",
       "      <th>Appointment_show</th>\n",
       "      <th></th>\n",
       "    </tr>\n",
       "  </thead>\n",
       "  <tbody>\n",
       "    <tr>\n",
       "      <th rowspan=\"2\" valign=\"top\">0</th>\n",
       "      <th>0</th>\n",
       "      <td>19736</td>\n",
       "    </tr>\n",
       "    <tr>\n",
       "      <th>1</th>\n",
       "      <td>79924</td>\n",
       "    </tr>\n",
       "    <tr>\n",
       "      <th rowspan=\"2\" valign=\"top\">1</th>\n",
       "      <th>0</th>\n",
       "      <td>2578</td>\n",
       "    </tr>\n",
       "    <tr>\n",
       "      <th>1</th>\n",
       "      <td>8283</td>\n",
       "    </tr>\n",
       "  </tbody>\n",
       "</table>\n",
       "</div>"
      ],
      "text/plain": [
       "                              Appointment_show\n",
       "Scholarship Appointment_show                  \n",
       "0           0                            19736\n",
       "            1                            79924\n",
       "1           0                             2578\n",
       "            1                             8283"
      ]
     },
     "execution_count": 53,
     "metadata": {},
     "output_type": "execute_result"
    }
   ],
   "source": [
    "labels=['No scholarship', 'Scholarship']\n",
    "x=np.arange(len(labels))\n",
    "fig, ax=plt.subplots(figsize=(10,10))\n",
    "rects1=ax.bar(x, df.query('Appointment_show == 1').Scholarship.value_counts().sort_index(), label='Appointment show patients')\n",
    "rects2=ax.bar(x, df.query('Appointment_show == 0').Scholarship.value_counts().sort_index(), label='No show patients')\n",
    "ax.set_title('Analysis of scholarship status against show rates', fontdict={'fontsize': 14, 'fontweight': 'heavy'}, loc='right')\n",
    "ax.set_xlabel('Scholarship status', fontdict={'fontsize': 12, 'fontweight': 'heavy'})\n",
    "ax.set_ylabel('Patient count', fontdict={'fontsize': 12, 'fontweight': 'heavy'})\n",
    "ax.set_xticks(x + 0.2 / 2)\n",
    "ax.set_xticklabels(labels)\n",
    "autolabel(rects1)\n",
    "autolabel(rects2)\n",
    "plt.xticks(rotation=90)\n",
    "plt.legend()\n",
    "plt.show()\n",
    "fig.tight_layout()\n",
    "df.groupby(['Scholarship', 'Appointment_show'])[['Appointment_show']].count()"
   ]
  },
  {
   "cell_type": "markdown",
   "metadata": {},
   "source": [
    ">**From the above graph, patients receiving scholarships (welfare) are slighlty more likely to show for their medical appointments.**"
   ]
  },
  {
   "cell_type": "markdown",
   "metadata": {},
   "source": [
    "### Research Question 5 - Does scheduling the appointment more early or more closer to the actual appointment date affects the show rates?"
   ]
  },
  {
   "cell_type": "markdown",
   "metadata": {},
   "source": [
    "#### Here we will be getting the ratio (fraction) of patients who showed for their appointments from the total patient count for the time period of scheduling.\n",
    "#### To get it we will divide the number of patients who showed for their appointments by the total patient count for each time period"
   ]
  },
  {
   "cell_type": "markdown",
   "metadata": {},
   "source": [
    "##### The number of patients who showed for their appointments in each time period:"
   ]
  },
  {
   "cell_type": "code",
   "execution_count": 54,
   "metadata": {},
   "outputs": [
    {
     "data": {
      "text/plain": [
       "0      0.953529\n",
       "1      0.786495\n",
       "2      0.761784\n",
       "3      0.764706\n",
       "4      0.767297\n",
       "5      0.733903\n",
       "6      0.752044\n",
       "7      0.733184\n",
       "8      0.712693\n",
       "9      0.725857\n",
       "10     0.683681\n",
       "11     0.683891\n",
       "12     0.683408\n",
       "13     0.681332\n",
       "14     0.686577\n",
       "15     0.666001\n",
       "16     0.695048\n",
       "17     0.683830\n",
       "18     0.694417\n",
       "19     0.652299\n",
       "20     0.656276\n",
       "21     0.691026\n",
       "22     0.655584\n",
       "23     0.664234\n",
       "24     0.622186\n",
       "25     0.598116\n",
       "26     0.640219\n",
       "27     0.684107\n",
       "28     0.705158\n",
       "29     0.673095\n",
       "         ...   \n",
       "101    1.000000\n",
       "102    0.750000\n",
       "103    0.400000\n",
       "104    0.250000\n",
       "105    1.000000\n",
       "107    1.000000\n",
       "108    1.000000\n",
       "109    1.000000\n",
       "110    0.500000\n",
       "111    0.800000\n",
       "112    1.000000\n",
       "115    1.000000\n",
       "117    1.000000\n",
       "119    1.000000\n",
       "122    1.000000\n",
       "123    1.000000\n",
       "125    1.000000\n",
       "126         NaN\n",
       "127    1.000000\n",
       "132         NaN\n",
       "133    0.636364\n",
       "139         NaN\n",
       "142    0.625000\n",
       "146         NaN\n",
       "151         NaN\n",
       "155    0.400000\n",
       "162    0.818182\n",
       "169    0.875000\n",
       "176    0.625000\n",
       "179    0.800000\n",
       "Name: Time_diff, Length: 129, dtype: float64"
      ]
     },
     "execution_count": 54,
     "metadata": {},
     "output_type": "execute_result"
    }
   ],
   "source": [
    "difference_time = df.query('Appointment_show == 1').Time_diff.value_counts().sort_index() / df.Time_diff.value_counts().sort_index()\n",
    "difference_time"
   ]
  },
  {
   "cell_type": "markdown",
   "metadata": {},
   "source": [
    "#### Here we got a set with null values because the appointment show set had only124 entries while the Time_diff set length is 129, so there must have been some time periods when no patients showed for their appointments, and we will correct them to zeroes to be able to plot the values on a graph."
   ]
  },
  {
   "cell_type": "code",
   "execution_count": 55,
   "metadata": {},
   "outputs": [
    {
     "data": {
      "text/plain": [
       "129"
      ]
     },
     "execution_count": 55,
     "metadata": {},
     "output_type": "execute_result"
    }
   ],
   "source": [
    "len(df.Time_diff.value_counts().sort_index())"
   ]
  },
  {
   "cell_type": "code",
   "execution_count": 56,
   "metadata": {},
   "outputs": [],
   "source": [
    "difference_time = difference_time.fillna(0)"
   ]
  },
  {
   "cell_type": "markdown",
   "metadata": {},
   "source": [
    "##### Plotting a scatterplot of the show rates for different time periods, with a median line to be able to observe the variations in show rates along the graph:"
   ]
  },
  {
   "cell_type": "code",
   "execution_count": 57,
   "metadata": {},
   "outputs": [
    {
     "data": {
      "image/png": "[encoded data removed]",
      "text/plain": [
       "<matplotlib.figure.Figure at 0x7f50d6aa1470>"
      ]
     },
     "metadata": {
      "needs_background": "light"
     },
     "output_type": "display_data"
    },
    {
     "data": {
      "text/plain": [
       "count    110521.000000\n",
       "mean         10.184345\n",
       "std          15.255153\n",
       "min           0.000000\n",
       "25%           0.000000\n",
       "50%           4.000000\n",
       "75%          15.000000\n",
       "max         179.000000\n",
       "Name: Time_diff, dtype: float64"
      ]
     },
     "execution_count": 57,
     "metadata": {},
     "output_type": "execute_result"
    }
   ],
   "source": [
    "labels=np.sort(df.Time_diff.unique())\n",
    "x=np.arange(len(labels))\n",
    "fig, ax=plt.subplots(figsize=(13,13))\n",
    "rects1=ax.scatter(x, difference_time, label='Appointment show patients fraction')\n",
    "rects2=ax.plot(x, [np.mean(difference_time)]*len(df.Time_diff.unique()), label='Mean', linestyle='--')\n",
    "ax.set_title('Analysis of the time - in days - between appointment scheduling and the actual appointment date, against show rates', fontdict={'fontsize': 12, 'fontweight': 'heavy'})\n",
    "ax.set_xlabel('Time in days', fontdict={'fontsize': 12, 'fontweight': 'heavy'})\n",
    "ax.set_ylabel('Patient fraction(Appointment show count/ Total count)', fontdict={'fontsize': 12, 'fontweight': 'heavy'})\n",
    "#ax.set_xticks(x + 0.2 / 2)\n",
    "#ax.set_xticklabels(labels)\n",
    "#plt.xticks(rotation=90)\n",
    "plt.legend()\n",
    "plt.show()\n",
    "fig.tight_layout()\n",
    "df.Time_diff.describe()"
   ]
  },
  {
   "cell_type": "markdown",
   "metadata": {},
   "source": [
    ">**From the above analysis, we can see that appointment show rates are higher when the appointment is scheduled in the same day, and decrease as the scheduling date gets further from the appoitnment date, with exceptions showing high show rates when it's scheduled at least 3 months in advance**"
   ]
  },
  {
   "cell_type": "markdown",
   "metadata": {},
   "source": [
    "### Research Question 6 - Did the patients who received an SMS for their appointments where more likely to show for their appointments?"
   ]
  },
  {
   "cell_type": "markdown",
   "metadata": {},
   "source": [
    "#### To answer this question, we will compare the show rate of patients who received an SMS against those who didn't."
   ]
  },
  {
   "cell_type": "markdown",
   "metadata": {},
   "source": [
    "##### Getting the total number of patients who showed for their appointments:"
   ]
  },
  {
   "cell_type": "code",
   "execution_count": 58,
   "metadata": {},
   "outputs": [
    {
     "data": {
      "text/plain": [
       "0    62509\n",
       "1    25698\n",
       "Name: SMS_received, dtype: int64"
      ]
     },
     "execution_count": 58,
     "metadata": {},
     "output_type": "execute_result"
    }
   ],
   "source": [
    "df.query('Appointment_show == 1').SMS_received.value_counts().sort_index()"
   ]
  },
  {
   "cell_type": "markdown",
   "metadata": {},
   "source": [
    "##### Getting the total number of patients who didn't show for their appointments:"
   ]
  },
  {
   "cell_type": "code",
   "execution_count": 59,
   "metadata": {},
   "outputs": [
    {
     "data": {
      "text/plain": [
       "0    12530\n",
       "1     9784\n",
       "Name: SMS_received, dtype: int64"
      ]
     },
     "execution_count": 59,
     "metadata": {},
     "output_type": "execute_result"
    }
   ],
   "source": [
    "df.query('Appointment_show == 0').SMS_received.value_counts().sort_index()"
   ]
  },
  {
   "cell_type": "markdown",
   "metadata": {},
   "source": [
    "##### Plotting the previously obtained numbers as barplot to compare show rates:"
   ]
  },
  {
   "cell_type": "code",
   "execution_count": 60,
   "metadata": {},
   "outputs": [
    {
     "data": {
      "image/png": "[encoded data removed]",
      "text/plain": [
       "<matplotlib.figure.Figure at 0x7f50d6fbf400>"
      ]
     },
     "metadata": {
      "needs_background": "light"
     },
     "output_type": "display_data"
    },
    {
     "data": {
      "text/html": [
       "<div>\n",
       "<style scoped>\n",
       "    .dataframe tbody tr th:only-of-type {\n",
       "        vertical-align: middle;\n",
       "    }\n",
       "\n",
       "    .dataframe tbody tr th {\n",
       "        vertical-align: top;\n",
       "    }\n",
       "\n",
       "    .dataframe thead th {\n",
       "        text-align: right;\n",
       "    }\n",
       "</style>\n",
       "<table border=\"1\" class=\"dataframe\">\n",
       "  <thead>\n",
       "    <tr style=\"text-align: right;\">\n",
       "      <th></th>\n",
       "      <th></th>\n",
       "      <th>Appointment_show</th>\n",
       "    </tr>\n",
       "    <tr>\n",
       "      <th>SMS_received</th>\n",
       "      <th>Appointment_show</th>\n",
       "      <th></th>\n",
       "    </tr>\n",
       "  </thead>\n",
       "  <tbody>\n",
       "    <tr>\n",
       "      <th rowspan=\"2\" valign=\"top\">0</th>\n",
       "      <th>0</th>\n",
       "      <td>12530</td>\n",
       "    </tr>\n",
       "    <tr>\n",
       "      <th>1</th>\n",
       "      <td>62509</td>\n",
       "    </tr>\n",
       "    <tr>\n",
       "      <th rowspan=\"2\" valign=\"top\">1</th>\n",
       "      <th>0</th>\n",
       "      <td>9784</td>\n",
       "    </tr>\n",
       "    <tr>\n",
       "      <th>1</th>\n",
       "      <td>25698</td>\n",
       "    </tr>\n",
       "  </tbody>\n",
       "</table>\n",
       "</div>"
      ],
      "text/plain": [
       "                               Appointment_show\n",
       "SMS_received Appointment_show                  \n",
       "0            0                            12530\n",
       "             1                            62509\n",
       "1            0                             9784\n",
       "             1                            25698"
      ]
     },
     "execution_count": 60,
     "metadata": {},
     "output_type": "execute_result"
    }
   ],
   "source": [
    "labels=['SMS NOT received', 'SMS received']\n",
    "x=np.arange(len(labels))\n",
    "fig, ax=plt.subplots(figsize=(10,10))\n",
    "rects1=ax.bar(x, df.query('Appointment_show == 1').SMS_received.value_counts().sort_index(), label='Appointment show patients')\n",
    "rects2=ax.bar(x, df.query('Appointment_show == 0').SMS_received.value_counts().sort_index(), label='No show patients')\n",
    "ax.set_title('Analysis of patient count against receiving an SMS message or not', fontdict={'fontsize': 10, 'fontweight': 'heavy'}, loc='right')\n",
    "ax.set_xlabel('SMS status', fontdict={'fontsize': 12, 'fontweight': 'heavy'})\n",
    "ax.set_ylabel('Patient count', fontdict={'fontsize': 12, 'fontweight': 'heavy'})\n",
    "ax.set_xticks(x + 0.2 / 2)\n",
    "ax.set_xticklabels(labels)\n",
    "autolabel(rects1)\n",
    "autolabel(rects2)\n",
    "plt.xticks(rotation=90)\n",
    "plt.legend()\n",
    "plt.show()\n",
    "fig.tight_layout()\n",
    "df.groupby(['SMS_received', 'Appointment_show'])[['Appointment_show']].count()"
   ]
  },
  {
   "cell_type": "markdown",
   "metadata": {},
   "source": [
    ">**From the above figures, people who received an SMS were more likely NOT to show for their appointments, suggesting that the messages were probably sent with wrong appointment dates**"
   ]
  },
  {
   "cell_type": "markdown",
   "metadata": {},
   "source": [
    "<a id='conclusions'></a>\n",
    "## Conclusions\n",
    "\n",
    "> In summary, there were some inherent factors that affected patients' show rates like the patient age and diesease state (hypertension, diabetes, alcoholism), and other external factors like the place (neighbourhood) of the appointment, the date from scheduling the appointment and sending an SMS message to the patient.\n",
    "\n",
    ">It is observed that patients with chronic ilness or alcoholic patients were more keen on showing for their appointments, probably to follow up with their conditions and receive their chronic medications.\n",
    "The same applied to geriatric patients which showed higher show rates for their appointments, reflecting that they probably are more concerned abouth their health than young individuals whose show rates were below average.\n",
    "\n",
    ">Of course, some of the factors have differences that aren't statistically significant so they their effect on the appointment show rates can be considered negligible, and we have to focus on the factor with the highest statistical significance **_(causing the largest difference in show rates)._**\n",
    "\n",
    ">**To answer the question 'Who is to blame?'**, the most influencing factor (with the greatest variation in show rates) and at the same time was an external factor not related to the patients' health or age was **_sending an SMS message_**, where 38% of the patients who received the SMS didn't show for their appointments compared to only 19% in case of not receiving a message, suggesting that the messages are sent with the wrong appointment dates to the patients.\n",
    ">Here, this factor alone doubled the no_show rates of patients so this is the most statiscally significant factor in the analysis, which if altered (fixed) will have a measurable impact on improving the show rates.\n",
    "\n",
    ">Other factors to be considered for improving the patient show rate is the **_time of scheduling the appointments_**, where it is better to schedule the appointments **on the same day**, which had about **95% show rate**, with a significant difference between it and other scheduling periods which had between **60& and 80% show rates.**\n",
    "\n",
    ">The analysis is limited by the data available. The available sample size for analysis was 110527 entries with no missing values for all the associated variables, which can be a good representative of the population and we can rely on its results for statistical analysis.\n",
    "\n",
    ">Among the limitations of the analysis also is the unmentioned data which could have affected the analysis results fo certain factors such as information about the different neighbourhoods(how many health facility are available in each one, which of them is rural and which is urban), other co-morbidities the patients suffered from which could have affected their show rates."
   ]
  },
  {
   "cell_type": "code",
   "execution_count": null,
   "metadata": {},
   "outputs": [],
   "source": []
  }
 ],
 "metadata": {
  "kernelspec": {
   "display_name": "Python 3.8.5 ('base')",
   "language": "python",
   "name": "python3"
  },
  "language_info": {
   "codemirror_mode": {
    "name": "ipython",
    "version": 3
   },
   "file_extension": ".py",
   "mimetype": "text/x-python",
   "name": "python",
   "nbconvert_exporter": "python",
   "pygments_lexer": "ipython3",
   "version": "3.8.5"
  },
  "vscode": {
   "interpreter": {
    "hash": "dfe2e9041c24d5f91854bb9ffc35eacf9a6123f8e0fdaf39110ac9ad93cae24d"
   }
  }
 },
 "nbformat": 4,
 "nbformat_minor": 2
}
